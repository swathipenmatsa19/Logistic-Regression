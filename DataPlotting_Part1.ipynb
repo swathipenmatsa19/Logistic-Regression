{
 "cells": [
  {
   "cell_type": "code",
   "execution_count": 1,
   "metadata": {},
   "outputs": [],
   "source": [
    "import numpy as np\n",
    "import pandas as pd\n",
    "from plotutil import plotData"
   ]
  },
  {
   "cell_type": "code",
   "execution_count": 2,
   "metadata": {},
   "outputs": [],
   "source": [
    "def mysigmoid(z):\n",
    "    c = 1/(1+np.exp(-z))\n",
    "    return c"
   ]
  },
  {
   "cell_type": "code",
   "execution_count": 3,
   "metadata": {},
   "outputs": [],
   "source": [
    "def costfunction(X, y, W, w_0):\n",
    "    hx = mysigmoid(np.dot(W.T,X)+w_0)\n",
    "    m = X.shape[1]\n",
    "    J = np.multiply((-1/m), sum(np.multiply(y,np.log(hx)), np.multiply((1-y),np.log(1 - hx))))\n",
    "    return J"
   ]
  },
  {
   "cell_type": "code",
   "execution_count": null,
   "metadata": {},
   "outputs": [],
   "source": []
  },
  {
   "cell_type": "code",
   "execution_count": 4,
   "metadata": {},
   "outputs": [],
   "source": [
    "def initialize_with_zeros(dim):\n",
    "    \n",
    "    W = np.zeros([dim,1], dtype=int)\n",
    "    w_0 = 0\n",
    "    ### END CODE HERE ###\n",
    "\n",
    "    assert(W.shape == (dim, 1))\n",
    "    assert(isinstance(w_0, float) or isinstance(w_0, int))\n",
    "    return W, w_0"
   ]
  },
  {
   "cell_type": "code",
   "execution_count": 5,
   "metadata": {},
   "outputs": [],
   "source": [
    "# Gradient Descent Algorithm\n",
    "\n",
    "def gradient_descent(W, w_0, X, Y, num_iterations, learning_rate, print_cost = True):\n",
    "    \n",
    "    costs = []\n",
    "    \n",
    "    for i in range(num_iterations):\n",
    "        # Get the number of training examples\n",
    "        m = X.shape[1]\n",
    "        \n",
    "        \n",
    "        ### START CODE HERE ### \n",
    "        # Calculate the heuristic function: h(x) = W.T * X + w_0\n",
    "        #Y_hat = np.dot(W.T,X) + w_0\n",
    "        #hx = mysigmoid(np.dot(W.T,X))\n",
    "        Y_hat = np.dot(W.T,X) + w_0\n",
    "        hx = mysigmoid(Y_hat)\n",
    "        \n",
    "        ### END CODE HERE ###\n",
    "    \n",
    "    \n",
    "        ### START CODE HERE ### \n",
    "        # Calculate cost, dw, and dw_0\n",
    "       \n",
    "        \n",
    "        cost = costfunction(X, Y, W, w_0)\n",
    "        #dw = np.dot(np.subtract(hx,Y),X[0,i])\n",
    "        #dw = np.divide(dw, m)\n",
    "        dw = np.sum((hx - Y) * X, axis = 1, keepdims = True)\n",
    "        #dw_0 = np.sum(np.subtract(hx,Y).T)\n",
    "        dw_0 = np.sum(np.subtract(hx,Y))\n",
    "        \n",
    "        W = np.subtract(W,np.multiply(learning_rate,dw))\n",
    "                       \n",
    "        dw_0 = np.divide(dw_0, m)\n",
    "        \n",
    "        ### END CODE HERE ###\n",
    "        \n",
    "        \n",
    "        ### START CODE HERE ### \n",
    "        # Update W and w_0\n",
    "        \n",
    "        w_0 = np.subtract(w_0, np.multiply(learning_rate, dw_0))\n",
    "        ### END CODE HERE ###\n",
    "        \n",
    "        \n",
    "        if((i % 100) == 0):\n",
    "            costs.append(cost)\n",
    "            \n",
    "        # Print the cost every 100 training examples\n",
    "        if print_cost and i % 100 == 0:\n",
    "            print (\"Cost after iteration %i: %f\" %(i, cost))\n",
    "        \n",
    "        \n",
    "    params = {\n",
    "        \"W\": W,\n",
    "        \"w_0\": w_0\n",
    "    }\n",
    "\n",
    "    grads = {\n",
    "        \"dw\": dw,\n",
    "        \"dw_0\": dw_0\n",
    "    }\n",
    "        \n",
    "    return params, grads, costs"
   ]
  },
  {
   "cell_type": "code",
   "execution_count": 6,
   "metadata": {},
   "outputs": [],
   "source": [
    "# GRADED FUNCTION: predict\n",
    "\n",
    "def predict(W, w_0, X):\n",
    "\n",
    "    \n",
    "    m = X.shape[1]\n",
    "    Y_prediction = np.zeros((1,m))\n",
    "    W = W.reshape(X.shape[0], 1)\n",
    "    \n",
    "    ### START CODE HERE ### \n",
    "    z = np.dot(W.T, X) + w_0\n",
    "    Y_prediction = mysigmoid(z)\n",
    "    ### END CODE HERE ###\n",
    "    \n",
    "    \n",
    "    return Y_prediction"
   ]
  },
  {
   "cell_type": "code",
   "execution_count": 7,
   "metadata": {},
   "outputs": [],
   "source": [
    "def normalize(mtx):\n",
    "    # Calculate mean for each feature\n",
    "    # Pay attention to the value of axis = ?\n",
    "    ### START CODE HERE ###\n",
    "    mean = np.mean(mtx, axis = 1, keepdims = True)\n",
    "    std = np.std(mtx, axis = 1, keepdims = True)\n",
    "    mtx = (mtx-mean) /std\n",
    "    ### END CODE HERE ###\n",
    "    \n",
    "    return mtx"
   ]
  },
  {
   "cell_type": "code",
   "execution_count": 8,
   "metadata": {},
   "outputs": [],
   "source": [
    "# GRADED FUNCTION: model\n",
    "\n",
    "def model(X_train, Y_train,X_test,Y_test,num_iterations = 1000, learning_rate = 0.01, print_cost = False):\n",
    "    \n",
    "    dim = X_train.shape[0]\n",
    "    print(dim)\n",
    "   \n",
    "    #W = np.random.randn(dim,1)\n",
    "    W , w_0 =   initialize_with_zeros(dim)\n",
    "    #w_0 = 0.0199900075962\n",
    "    \n",
    "    X_train = normalize(X_train)\n",
    "    X_test = normalize(X_test)\n",
    "    \n",
    "    \n",
    "    # Gradient descent \n",
    "    ### START CODE HERE ###\n",
    "    parameters, grads, costs = gradient_descent(W, w_0, X_train, Y_train, num_iterations, learning_rate, print_cost)\n",
    "    ### END CODE HERE ###\n",
    "        \n",
    "    # Retrieve parameters w and w_0 from dictionary \"parameters\"\n",
    "    W = parameters[\"W\"]\n",
    "    w_0 = parameters[\"w_0\"]\n",
    "    \n",
    "    # Predict test/train set examples (≈ 2 lines of code)\n",
    "    ### START CODE HERE ###\n",
    "    Y_prediction_train = predict(W, w_0, X_train)\n",
    "    Y_prediction_test =  predict(W, w_0, X_test)\n",
    "    ### END CODE HERE ###\n",
    "\n",
    "    # Print train/test Errors\n",
    "    print(\"train accuracy: {} %\".format(100 - np.mean(np.abs(Y_prediction_train - Y_train)) * 100))\n",
    "    print(\"test accuracy: {} %\".format(100 - np.mean(np.abs(Y_prediction_test - Y_test)) * 100))\n",
    "\n",
    "    print(\"w is \", W)\n",
    "    print(\"b is \", w_0)\n",
    "    \n",
    "    d = {\"costs\": costs,\n",
    "         \"Y_prediction_test\": Y_prediction_test, \n",
    "         \"Y_prediction_train\" : Y_prediction_train, \n",
    "         \"W\" : W, \n",
    "         \"w_0\" : w_0,\n",
    "         \"learning_rate\" : learning_rate,\n",
    "         \"num_iterations\": num_iterations}\n",
    "    \n",
    "    return d"
   ]
  },
  {
   "cell_type": "code",
   "execution_count": null,
   "metadata": {},
   "outputs": [],
   "source": [
    "\n"
   ]
  },
  {
   "cell_type": "code",
   "execution_count": null,
   "metadata": {},
   "outputs": [],
   "source": [
    "\n"
   ]
  },
  {
   "cell_type": "code",
   "execution_count": null,
   "metadata": {},
   "outputs": [],
   "source": []
  },
  {
   "cell_type": "markdown",
   "metadata": {},
   "source": [
    "# Plot Training Data #\n",
    "Before starting the training, you can visualize the data distribution"
   ]
  },
  {
   "cell_type": "code",
   "execution_count": 9,
   "metadata": {},
   "outputs": [
    {
     "data": {
      "image/png": "[encoded data removed]",
      "text/plain": [
       "<Figure size 432x288 with 1 Axes>"
      ]
     },
     "metadata": {
      "needs_background": "light"
     },
     "output_type": "display_data"
    }
   ],
   "source": [
    "import numpy as np\n",
    "from plotutil import plotData\n",
    "data = np.loadtxt('pa3-data1.csv', delimiter=',')\n",
    "X_train = data[:,[0,1]].T\n",
    "y_train = data[:,-1].T\n",
    "\n",
    "plotData(X_train, y_train, \"1st exam\", \"2nd exam\")"
   ]
  },
  {
   "cell_type": "markdown",
   "metadata": {},
   "source": [
    "# Plot the Decision Boundary #\n",
    "After training, you can plot the decision boundary to see how well your model classify the training data"
   ]
  },
  {
   "cell_type": "code",
   "execution_count": 10,
   "metadata": {},
   "outputs": [
    {
     "name": "stdout",
     "output_type": "stream",
     "text": [
      "2\n",
      "train accuracy: 84.51274144821552 %\n",
      "test accuracy: 84.51274144821552 %\n",
      "w is  [[3.06503962]\n",
      " [2.78674489]]\n",
      "b is  0.7175071077643508\n"
     ]
    },
    {
     "data": {
      "image/png": "[encoded data removed]",
      "text/plain": [
       "<Figure size 432x288 with 1 Axes>"
      ]
     },
     "metadata": {
      "needs_background": "light"
     },
     "output_type": "display_data"
    }
   ],
   "source": [
    "d = model(X_train, y_train,X_train,y_train,num_iterations = 1000, learning_rate = 0.01, print_cost = False)\n",
    "\n",
    "plotData(normalize(X_train), y_train, xlabel=\"1st exam\", ylabel=\"2nd exam\", w = d[\"W\"], b = d[\"w_0\"], plot_db=True, part_I = True)"
   ]
  }
 ],
 "metadata": {
  "kernelspec": {
   "display_name": "Python 3",
   "language": "python",
   "name": "python3"
  },
  "language_info": {
   "codemirror_mode": {
    "name": "ipython",
    "version": 3
   },
   "file_extension": ".py",
   "mimetype": "text/x-python",
   "name": "python",
   "nbconvert_exporter": "python",
   "pygments_lexer": "ipython3",
   "version": "3.7.3"
  }
 },
 "nbformat": 4,
 "nbformat_minor": 2
}
